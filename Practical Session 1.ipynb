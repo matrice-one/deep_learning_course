{
 "cells": [
  {
   "cell_type": "markdown",
   "id": "fb755483-25b6-4495-b619-813af2d8d1e6",
   "metadata": {},
   "source": [
    "## Practical Session 1"
   ]
  },
  {
   "cell_type": "code",
   "execution_count": 25,
   "id": "6b99dfe8-1d21-4e81-8e50-1189113ca97b",
   "metadata": {},
   "outputs": [],
   "source": [
    "import torch"
   ]
  },
  {
   "cell_type": "markdown",
   "id": "3959b4c7-7973-494c-bce5-9b35de70e3e9",
   "metadata": {},
   "source": [
    "### 1- Multiple views of a storage"
   ]
  },
  {
   "cell_type": "code",
   "execution_count": 79,
   "id": "1a1d46cf-566b-49fd-bc57-38f85a7e5dd7",
   "metadata": {},
   "outputs": [
    {
     "data": {
      "text/plain": [
       "tensor([[1, 1, 1, 1, 1, 1, 1, 1, 1, 1, 1, 1, 1],\n",
       "        [2, 2, 2, 2, 2, 2, 2, 2, 2, 2, 2, 2, 2],\n",
       "        [1, 1, 1, 1, 1, 1, 1, 1, 1, 1, 1, 1, 1],\n",
       "        [1, 1, 1, 3, 3, 1, 1, 1, 3, 3, 1, 1, 1],\n",
       "        [1, 1, 1, 3, 3, 1, 1, 1, 3, 3, 1, 1, 1],\n",
       "        [1, 1, 1, 1, 1, 1, 1, 1, 1, 1, 1, 1, 1],\n",
       "        [2, 2, 2, 2, 2, 2, 2, 2, 2, 2, 2, 2, 2],\n",
       "        [1, 1, 1, 1, 1, 1, 1, 1, 1, 1, 1, 1, 1],\n",
       "        [1, 1, 1, 3, 3, 1, 1, 1, 3, 3, 1, 1, 1],\n",
       "        [1, 1, 1, 3, 3, 1, 1, 1, 3, 3, 1, 1, 1],\n",
       "        [1, 1, 1, 1, 1, 1, 1, 1, 1, 1, 1, 1, 1],\n",
       "        [2, 2, 2, 2, 2, 2, 2, 2, 2, 2, 2, 2, 2],\n",
       "        [1, 1, 1, 1, 1, 1, 1, 1, 1, 1, 1, 1, 1]])"
      ]
     },
     "execution_count": 79,
     "metadata": {},
     "output_type": "execute_result"
    }
   ],
   "source": [
    "test = torch.full((13,13),1)\n",
    "test[[1,6,11]] = torch.full((1,13),2)\n",
    "test[3:5,3:5] = 3\n",
    "test[3:5,8:10] = 3\n",
    "test[8:10,3:5] = 3\n",
    "test[8:10,8:10] = 3\n",
    "test"
   ]
  },
  {
   "cell_type": "markdown",
   "id": "084374da-bc0c-4e7f-8860-3d316fcd007a",
   "metadata": {},
   "source": [
    "<h4><span style=\"color:green\">  Corrections and improvements</span></h4>"
   ]
  },
  {
   "cell_type": "markdown",
   "id": "b56cf6e4-a938-4bed-92de-cd6da6b6a612",
   "metadata": {},
   "source": [
    "<span style=\"color:green\"> Using the skipping operator to tell to take every 5th element after the first</span>"
   ]
  },
  {
   "cell_type": "markdown",
   "id": "d6f8b42a-111a-4f85-984b-aac900f959de",
   "metadata": {},
   "source": [
    "### 2- Eigendecomposition"
   ]
  },
  {
   "cell_type": "code",
   "execution_count": 136,
   "id": "429b53b7-ed18-43ca-8536-b602e2209b81",
   "metadata": {},
   "outputs": [
    {
     "data": {
      "text/plain": [
       "tensor([[ 0.9337,  0.8281,  0.2331, -0.2770, -0.7542,  0.1557,  0.6426,  1.6817,\n",
       "         -1.1004,  0.4625,  0.3374,  0.6477,  1.3294, -0.2190,  0.6034, -0.2263,\n",
       "          0.5705,  0.8141, -1.0350, -0.7232],\n",
       "        [ 0.7026,  0.1989, -1.0787,  1.4165,  0.7295, -0.4421, -0.0135,  0.2450,\n",
       "          0.4153, -1.0207,  0.2976, -0.3909, -0.2464, -1.9943, -0.7947,  0.8489,\n",
       "         -1.2791,  1.0496,  0.6022, -0.1784]], dtype=torch.float64)"
      ]
     },
     "execution_count": 136,
     "metadata": {},
     "output_type": "execute_result"
    }
   ],
   "source": [
    "m = torch.randn((20,20),dtype=float)\n",
    "## OR THE OTHER ONE\n",
    "m[:2]"
   ]
  },
  {
   "cell_type": "code",
   "execution_count": 139,
   "id": "8b48381d-dc8f-485e-924e-bf6e4dd277c5",
   "metadata": {},
   "outputs": [
    {
     "data": {
      "text/plain": [
       "tensor([[1., 0., 0., 0., 0., 0., 0., 0., 0., 0., 0., 0., 0., 0., 0., 0., 0., 0.,\n",
       "         0., 0.],\n",
       "        [0., 2., 0., 0., 0., 0., 0., 0., 0., 0., 0., 0., 0., 0., 0., 0., 0., 0.,\n",
       "         0., 0.]], dtype=torch.float64)"
      ]
     },
     "execution_count": 139,
     "metadata": {},
     "output_type": "execute_result"
    }
   ],
   "source": [
    "I_diag = torch.diag(torch.arange(1,21, dtype=float))\n",
    "I_diag[:2]"
   ]
  },
  {
   "cell_type": "code",
   "execution_count": 132,
   "id": "dae38ec4-22f2-4721-8b82-7f2c72a4149f",
   "metadata": {},
   "outputs": [],
   "source": [
    "m_inverse = torch.inverse(m)"
   ]
  },
  {
   "cell_type": "code",
   "execution_count": 155,
   "id": "974c4474-7f61-46cf-a0c0-60746e0dbdf2",
   "metadata": {},
   "outputs": [
    {
     "data": {
      "text/plain": [
       "tensor([[-18.7782,  16.4204,   3.1781, -23.5145, -27.7152,  28.0064, -13.6036,\n",
       "         -34.9269,   6.7157,  23.0589,   1.2905,  29.9443, -14.9327,  -1.3900,\n",
       "           2.2292,  10.9479,   0.8179, -12.9492,  13.6066,   6.2198],\n",
       "        [-20.3080,  14.7632,  72.2945, -44.2493, -28.9263,  40.0700,   4.5429,\n",
       "         -90.3080,  -1.9323, 121.7385,  12.5760,  36.2063, -24.1218,  37.5601,\n",
       "          -6.3237,  37.0623, -42.1075, -21.8138,   4.7429, -14.2962]],\n",
       "       dtype=torch.float64)"
      ]
     },
     "execution_count": 155,
     "metadata": {},
     "output_type": "execute_result"
    }
   ],
   "source": [
    "multiplied_matrice = torch.matmul(torch.matmul(m_inverse, I_diag),m)\n",
    "## OR\n",
    "multiplied_matrice = first = torch.einsum('ij,jn,np -> ip', m_inverse, I_diag, m)\n",
    "## OR\n",
    "multiplied_matrice = m_inverse @ I_diag @ m\n",
    "## OR \n",
    "m_inverse.mm(I_diag).mm(m)\n",
    "\n",
    "multiplied_matrice[:2]"
   ]
  },
  {
   "cell_type": "code",
   "execution_count": 159,
   "id": "07e34e7c-db4a-4a2f-a694-2f7a09479bd3",
   "metadata": {},
   "outputs": [
    {
     "data": {
      "text/plain": [
       "tensor([ -1.0628+56.3971j,  -1.0628-56.3971j, -20.1095+27.7636j,\n",
       "        -20.1095-27.7636j,  26.8798+0.0000j, -17.9450+0.0000j,\n",
       "         10.5660+8.3062j,  10.5660-8.3062j,  -6.5545+3.9399j,\n",
       "         -6.5545-3.9399j,   0.3332+8.3923j,   0.3332-8.3923j,\n",
       "          4.4619+5.7564j,   4.4619-5.7564j,  -2.9950+0.0000j,\n",
       "         -0.2045+2.7113j,  -0.2045-2.7113j,   1.5275+1.7692j,\n",
       "          1.5275-1.7692j,  -0.3029+0.0000j], dtype=torch.complex128)"
      ]
     },
     "execution_count": 159,
     "metadata": {},
     "output_type": "execute_result"
    }
   ],
   "source": [
    "torch.linalg.eig(multiplied_matrice).eigenvalues"
   ]
  },
  {
   "cell_type": "markdown",
   "id": "1020a455-ce6c-4697-8305-9dc1756c43d4",
   "metadata": {},
   "source": [
    "### 3- Flops per second"
   ]
  },
  {
   "cell_type": "code",
   "execution_count": 161,
   "id": "411e20f0-5919-45a1-b042-dceee238224b",
   "metadata": {},
   "outputs": [],
   "source": [
    "floppy_1 = torch.randn(5000,5000)\n",
    "floppy_2 = torch.randn(5000,5000)"
   ]
  },
  {
   "cell_type": "code",
   "execution_count": 174,
   "id": "1c8bf8ef-4b30-4d62-beae-2baf0aadf9f0",
   "metadata": {},
   "outputs": [
    {
     "name": "stdout",
     "output_type": "stream",
     "text": [
      "Elapse time: 0.18597764900005131\n"
     ]
    }
   ],
   "source": [
    "from time import perf_counter\n",
    "\n",
    "t1_start = perf_counter()\n",
    "\n",
    "floppy_1.mm(floppy_2)\n",
    "\n",
    "t1_stop = perf_counter()\n",
    "\n",
    "total_time = t1_stop - t1_start\n",
    "print(f\"Elapse time: {format(total_time)}\")"
   ]
  },
  {
   "cell_type": "code",
   "execution_count": 176,
   "id": "6dd3dea9-0943-47c1-8868-c4a8737281de",
   "metadata": {},
   "outputs": [
    {
     "data": {
      "text/plain": [
       "'672123777626.4475'"
      ]
     },
     "execution_count": 176,
     "metadata": {},
     "output_type": "execute_result"
    }
   ],
   "source": [
    "format(2 * 5000 * 5000 * 5000 / total_time"
   ]
  },
  {
   "cell_type": "markdown",
   "id": "5d0d6c3e-791d-4ad4-9978-7955123bd86d",
   "metadata": {},
   "source": [
    "<h4><span style=\"color:green\">Correction</span></h4>"
   ]
  },
  {
   "cell_type": "code",
   "execution_count": 173,
   "id": "31f94d74-0a75-47b6-9aa0-bf9d8e4177fa",
   "metadata": {},
   "outputs": [
    {
     "name": "stdout",
     "output_type": "stream",
     "text": [
      "# 3 #\n",
      "Throughput 8.477179e+11 flop/s\n"
     ]
    }
   ],
   "source": [
    "print('# 3 #')\n",
    "\n",
    "d = 5000\n",
    "a = torch.empty(d, d).normal_()\n",
    "b = torch.empty(d, d).normal_()\n",
    "\n",
    "time1 = time.perf_counter()\n",
    "c = torch.mm(a, b)\n",
    "time2 = time.perf_counter()\n",
    "\n",
    "print('Throughput {:e} flop/s'.format((d * d * d)/(time2 - time1)))"
   ]
  },
  {
   "cell_type": "markdown",
   "id": "e3bc7535-28d9-498c-a9b2-95ec5b21ecfc",
   "metadata": {},
   "source": [
    "<span style=\"color:green\"> Wondering if the prof may have forgotten the times 2</span>"
   ]
  },
  {
   "cell_type": "markdown",
   "id": "0dc97cd0-d6f0-4579-8230-bdcf9099c72f",
   "metadata": {},
   "source": [
    "### 4- Playing with strides "
   ]
  },
  {
   "cell_type": "markdown",
   "id": "7c18dd3d-efd2-4e81-854c-087eefbe360c",
   "metadata": {},
   "source": [
    "Version with python loop"
   ]
  },
  {
   "cell_type": "code",
   "execution_count": 200,
   "id": "9949a6c2-ad02-498f-98e4-febcc8046b75",
   "metadata": {},
   "outputs": [],
   "source": [
    "def mul_row(tensor):\n",
    "    for i, row in enumerate(tensor):\n",
    "        tensor[i] = row * (i+1)\n",
    "    return tensor"
   ]
  },
  {
   "cell_type": "code",
   "execution_count": 204,
   "id": "1bcd1efa-d837-4bdc-8b96-d0ca1fab6d05",
   "metadata": {},
   "outputs": [
    {
     "data": {
      "text/plain": [
       "tensor([[2., 2., 2., 2., 2., 2., 2., 2.],\n",
       "        [2., 2., 2., 2., 2., 2., 2., 2.],\n",
       "        [2., 2., 2., 2., 2., 2., 2., 2.],\n",
       "        [2., 2., 2., 2., 2., 2., 2., 2.]])"
      ]
     },
     "execution_count": 204,
     "metadata": {},
     "output_type": "execute_result"
    }
   ],
   "source": [
    "test = torch.full((4, 8), 2.0)\n",
    "test"
   ]
  },
  {
   "cell_type": "code",
   "execution_count": 205,
   "id": "005a33f8-b1f9-4ec8-ac76-9d83a70073b4",
   "metadata": {},
   "outputs": [
    {
     "data": {
      "text/plain": [
       "tensor([[2., 2., 2., 2., 2., 2., 2., 2.],\n",
       "        [4., 4., 4., 4., 4., 4., 4., 4.],\n",
       "        [6., 6., 6., 6., 6., 6., 6., 6.],\n",
       "        [8., 8., 8., 8., 8., 8., 8., 8.]])"
      ]
     },
     "execution_count": 205,
     "metadata": {},
     "output_type": "execute_result"
    }
   ],
   "source": [
    "mul_row(test)"
   ]
  },
  {
   "cell_type": "markdown",
   "id": "53f9445f-3d1c-436f-bafb-9a3d7793a816",
   "metadata": {},
   "source": [
    "Version with tensor operations"
   ]
  },
  {
   "cell_type": "code",
   "execution_count": 261,
   "id": "8932d7a4-a2db-470c-b827-9c521e219d70",
   "metadata": {},
   "outputs": [],
   "source": [
    "def mul_row_fast(tensor):\n",
    "    size = tensor.size(dim=0)\n",
    "    return torch.mul(tensor,torch.arange(1, size+1).view(-1, 1))\n",
    "    "
   ]
  },
  {
   "cell_type": "code",
   "execution_count": 247,
   "id": "709a235e-ecfb-4b9f-bad6-d30cb3b242ef",
   "metadata": {},
   "outputs": [
    {
     "data": {
      "text/plain": [
       "tensor([[2., 2., 2., 2., 2., 2., 2., 2.],\n",
       "        [4., 4., 4., 4., 4., 4., 4., 4.],\n",
       "        [6., 6., 6., 6., 6., 6., 6., 6.],\n",
       "        [8., 8., 8., 8., 8., 8., 8., 8.]])"
      ]
     },
     "execution_count": 247,
     "metadata": {},
     "output_type": "execute_result"
    }
   ],
   "source": [
    "test"
   ]
  },
  {
   "cell_type": "code",
   "execution_count": 246,
   "id": "bb3d5c40-a074-434b-9866-42414284c4d2",
   "metadata": {},
   "outputs": [
    {
     "data": {
      "text/plain": [
       "tensor([[ 2.,  2.,  2.,  2.,  2.,  2.,  2.,  2.],\n",
       "        [ 8.,  8.,  8.,  8.,  8.,  8.,  8.,  8.],\n",
       "        [18., 18., 18., 18., 18., 18., 18., 18.],\n",
       "        [32., 32., 32., 32., 32., 32., 32., 32.]])"
      ]
     },
     "execution_count": 246,
     "metadata": {},
     "output_type": "execute_result"
    }
   ],
   "source": [
    "mul_row_fast(test)"
   ]
  },
  {
   "cell_type": "code",
   "execution_count": 249,
   "id": "ea018424-8359-4273-905f-45a7f5242e07",
   "metadata": {},
   "outputs": [],
   "source": [
    "test_final = torch.full((1000, 400), 2.0)\n"
   ]
  },
  {
   "cell_type": "code",
   "execution_count": 254,
   "id": "bd3a603f-0fb1-4d6f-b963-e45c0c793dc3",
   "metadata": {},
   "outputs": [
    {
     "name": "stdout",
     "output_type": "stream",
     "text": [
      "0.3330844199444982\n"
     ]
    }
   ],
   "source": [
    "t1_start_slow = perf_counter()\n",
    "mul_row(test_final)\n",
    "t1_stop_slow = perf_counter()\n",
    "\n",
    "print(format((t1_stop_slow - t1_start_slow)*60))"
   ]
  },
  {
   "cell_type": "code",
   "execution_count": 255,
   "id": "54ea2f20-1f51-4963-9a77-acacf532e74f",
   "metadata": {},
   "outputs": [
    {
     "name": "stdout",
     "output_type": "stream",
     "text": [
      "0.0247239600867033\n"
     ]
    }
   ],
   "source": [
    "t1_start_fast = perf_counter()\n",
    "mul_row_fast(test_final)\n",
    "t1_stop_fast = perf_counter()\n",
    "\n",
    "print(format((t1_stop_fast - t1_start_fast)*60))"
   ]
  },
  {
   "cell_type": "code",
   "execution_count": 257,
   "id": "22712da1-16fd-4a44-af34-f841f9db6f66",
   "metadata": {},
   "outputs": [
    {
     "data": {
      "text/plain": [
       "13.472130628605614"
      ]
     },
     "execution_count": 257,
     "metadata": {},
     "output_type": "execute_result"
    }
   ],
   "source": [
    "(t1_stop_slow - t1_start_slow) / (t1_stop_fast - t1_start_fast)"
   ]
  },
  {
   "cell_type": "code",
   "execution_count": 262,
   "id": "3bc08a96-cc89-49bb-b9c7-6752d8e86856",
   "metadata": {},
   "outputs": [
    {
     "name": "stdout",
     "output_type": "stream",
     "text": [
      "# 4 #\n",
      "Speed ratio 7336.207057125469\n",
      "Sanity check: error is  0.0\n"
     ]
    }
   ],
   "source": [
    "print('# 4 #')\n",
    "\n",
    "def mul_row(m):\n",
    "    r = torch.torch.empty(m.size())\n",
    "    for i in range(m.size(0)):\n",
    "        for j in range(m.size(1)):\n",
    "            r[i, j] = m[i, j] * (i + 1)\n",
    "    return r\n",
    "\n",
    "def mul_row_fast(m):\n",
    "    c = torch.arange(1, m.size(0) + 1).view(-1, 1).float()\n",
    "    return m.mul(c)\n",
    "\n",
    "m = torch.empty(1000, 400).normal_()\n",
    "\n",
    "time1 = time.perf_counter()\n",
    "a = mul_row(m)\n",
    "time2 = time.perf_counter()\n",
    "b = mul_row_fast(m)\n",
    "time3 = time.perf_counter()\n",
    "\n",
    "print('Speed ratio', (time2 - time1) / (time3 - time2))\n",
    "\n",
    "print('Sanity check: error is ', torch.norm(a - b).item())\n",
    "\n",
    "######################################################################"
   ]
  },
  {
   "cell_type": "code",
   "execution_count": 264,
   "id": "58f9ca13-00e2-49eb-904b-28f46e760670",
   "metadata": {},
   "outputs": [
    {
     "data": {
      "text/plain": [
       "tensor([[ 2.,  2.,  2.,  2.,  2.,  2.,  2.,  2.],\n",
       "        [ 8.,  8.,  8.,  8.,  8.,  8.,  8.,  8.],\n",
       "        [18., 18., 18., 18., 18., 18., 18., 18.],\n",
       "        [32., 32., 32., 32., 32., 32., 32., 32.]])"
      ]
     },
     "execution_count": 264,
     "metadata": {},
     "output_type": "execute_result"
    }
   ],
   "source": [
    "mul_row_fast(test)"
   ]
  },
  {
   "cell_type": "code",
   "execution_count": 260,
   "id": "0cfdb602-6b62-446c-96a9-df0f9ea4660f",
   "metadata": {},
   "outputs": [
    {
     "data": {
      "text/plain": [
       "tensor([[-2.3978e+00, -4.8750e-01, -6.9742e-01,  ..., -2.3053e-01,\n",
       "          5.9751e-01,  1.7306e+00],\n",
       "        [ 4.4475e+00,  1.0963e+00,  6.7468e-01,  ...,  8.4165e-01,\n",
       "          2.8812e+00, -9.8924e-02],\n",
       "        [ 1.5434e+00,  5.7728e-01, -8.0986e-01,  ...,  2.0347e-01,\n",
       "         -1.7115e+00, -3.0562e+00],\n",
       "        ...,\n",
       "        [ 2.0320e+03,  3.1475e+02, -7.3569e+01,  ...,  1.4564e+03,\n",
       "          3.9009e+02, -6.5183e+02],\n",
       "        [-9.6659e+02, -6.8061e+02, -7.8808e+02,  ...,  5.9792e+02,\n",
       "         -7.6895e+02, -1.9147e+03],\n",
       "        [ 6.7628e+02,  3.0361e+02,  5.1429e+02,  ..., -4.4779e+02,\n",
       "          3.0695e+02,  9.1228e+02]])"
      ]
     },
     "execution_count": 260,
     "metadata": {},
     "output_type": "execute_result"
    }
   ],
   "source": [
    "a"
   ]
  },
  {
   "cell_type": "code",
   "execution_count": 265,
   "id": "a98af1bb-2676-4c93-877e-7c9f6e42cecf",
   "metadata": {},
   "outputs": [
    {
     "data": {
      "text/plain": [
       "tensor([[2., 2., 2., 2., 2., 2., 2., 2.],\n",
       "        [4., 4., 4., 4., 4., 4., 4., 4.],\n",
       "        [6., 6., 6., 6., 6., 6., 6., 6.],\n",
       "        [8., 8., 8., 8., 8., 8., 8., 8.]])"
      ]
     },
     "execution_count": 265,
     "metadata": {},
     "output_type": "execute_result"
    }
   ],
   "source": [
    "test"
   ]
  },
  {
   "cell_type": "markdown",
   "id": "e8d88382-3a81-4f9a-aaeb-62c7bcb6778b",
   "metadata": {},
   "source": [
    "<span style=\"color:green\">I probably had a better loop from the getgo which explains the difference in perf ratio.</span>"
   ]
  },
  {
   "cell_type": "code",
   "execution_count": null,
   "id": "862eca3e-0f0d-4111-8b0a-235e6c8fdc0f",
   "metadata": {},
   "outputs": [],
   "source": []
  }
 ],
 "metadata": {
  "kernelspec": {
   "display_name": "Python 3 (ipykernel)",
   "language": "python",
   "name": "python3"
  },
  "language_info": {
   "codemirror_mode": {
    "name": "ipython",
    "version": 3
   },
   "file_extension": ".py",
   "mimetype": "text/x-python",
   "name": "python",
   "nbconvert_exporter": "python",
   "pygments_lexer": "ipython3",
   "version": "3.11.2"
  }
 },
 "nbformat": 4,
 "nbformat_minor": 5
}
