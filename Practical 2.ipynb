{
 "cells": [
  {
   "cell_type": "code",
   "execution_count": 1,
   "id": "52639a5a-bab0-4c94-837c-f74d75af8806",
   "metadata": {},
   "outputs": [],
   "source": [
    "import torch\n",
    "from torch import Tensor\n",
    "import dlc_practical_prologue as prologue"
   ]
  },
  {
   "cell_type": "code",
   "execution_count": 394,
   "id": "e36131df-d348-4eaa-ab99-a37f3f69933a",
   "metadata": {},
   "outputs": [],
   "source": [
    "class Args:\n",
    "    full = True\n",
    "    tiny = True\n",
    "    seed = 42\n",
    "    cifar = True\n",
    "    data_dir = './data'\n",
    "    file = None\n",
    "\n",
    "args = Args()"
   ]
  },
  {
   "cell_type": "code",
   "execution_count": 5,
   "id": "5523a3d7-434e-44d7-93bd-cf5383fe4b73",
   "metadata": {},
   "outputs": [
    {
     "name": "stdout",
     "output_type": "stream",
     "text": [
      "* Using MNIST\n",
      "** Reduce the data-set (use --full for the full thing)\n",
      "** Use 1000 train and 1000 test samples\n"
     ]
    }
   ],
   "source": [
    "\n",
    "# Now use args as usual\n",
    "if args.seed >= 0:\n",
    "    torch.manual_seed(args.seed)\n",
    "\n",
    "train_input, train_target, test_input, test_target = prologue.load_data(\n",
    "     one_hot_labels=False, normalize=True, flatten=True\n",
    ")"
   ]
  },
  {
   "cell_type": "code",
   "execution_count": 179,
   "id": "e9cb54e2-440a-4ed7-857f-ad3d4f7e896c",
   "metadata": {},
   "outputs": [],
   "source": [
    "def nearest_classification(train_input, train_target, x):\n",
    "    dist = (train_input - x).pow(2).sum(1).view(-1)\n",
    "    _, n = torch.min(dist, 0)\n",
    "    return train_target[n.item()]"
   ]
  },
  {
   "cell_type": "code",
   "execution_count": 231,
   "id": "20901ef0-08cc-4d84-afed-a55aec360a1e",
   "metadata": {},
   "outputs": [],
   "source": [
    "def nearest_classification(train_input, train_target, x):\n",
    "    ## Substracts\n",
    "    __, index = torch.min(torch.sqrt(torch.sum(torch.pow((train_input - x), 2),1)),0)\n",
    "    nearest_value = train_target[int(index)]\n",
    "    return nearest_value\n",
    "    "
   ]
  },
  {
   "cell_type": "code",
   "execution_count": 232,
   "id": "d5dc1a9a-906e-41a3-87f6-e9649b606600",
   "metadata": {},
   "outputs": [],
   "source": [
    "check = nearest_classification(train_input, train_target, test_input[455])"
   ]
  },
  {
   "cell_type": "code",
   "execution_count": 233,
   "id": "18efdc18-930a-4579-a1c7-7bc45e0b00e0",
   "metadata": {},
   "outputs": [
    {
     "data": {
      "text/plain": [
       "tensor(1)"
      ]
     },
     "execution_count": 233,
     "metadata": {},
     "output_type": "execute_result"
    }
   ],
   "source": [
    "check"
   ]
  },
  {
   "cell_type": "code",
   "execution_count": 234,
   "id": "08c1fb3c-9f52-4e6e-a422-e82ea881c7f6",
   "metadata": {},
   "outputs": [
    {
     "data": {
      "text/plain": [
       "tensor(1)"
      ]
     },
     "execution_count": 234,
     "metadata": {},
     "output_type": "execute_result"
    }
   ],
   "source": [
    "test_target[455]"
   ]
  },
  {
   "cell_type": "code",
   "execution_count": 84,
   "id": "718b4039-0381-423d-af4d-86c307bc70c9",
   "metadata": {},
   "outputs": [],
   "source": [
    "sq = torch.pow(subs, 2)"
   ]
  },
  {
   "cell_type": "code",
   "execution_count": 88,
   "id": "35056901-db7f-4054-968d-846dd41ef579",
   "metadata": {},
   "outputs": [],
   "source": [
    "summed = torch.sum(sq, 1)"
   ]
  },
  {
   "cell_type": "code",
   "execution_count": 95,
   "id": "1fad7281-19be-4b37-9bd3-0e59691bc82b",
   "metadata": {},
   "outputs": [],
   "source": [
    "sqrted = torch.sqrt(summed)"
   ]
  },
  {
   "cell_type": "code",
   "execution_count": 132,
   "id": "4e3d7360-4239-4aeb-893b-6f26a2219bbe",
   "metadata": {},
   "outputs": [
    {
     "data": {
      "text/plain": [
       "360"
      ]
     },
     "execution_count": 132,
     "metadata": {},
     "output_type": "execute_result"
    }
   ],
   "source": [
    "__, index = torch.min(sqrted, -1)\n",
    "int(index)"
   ]
  },
  {
   "cell_type": "code",
   "execution_count": 164,
   "id": "c8a44493-09c9-44b3-a240-452ad9c7e541",
   "metadata": {},
   "outputs": [
    {
     "data": {
      "text/plain": [
       "360"
      ]
     },
     "execution_count": 164,
     "metadata": {},
     "output_type": "execute_result"
    }
   ],
   "source": [
    "int(torch.min(sqrted, -1)[1])"
   ]
  },
  {
   "cell_type": "code",
   "execution_count": 12,
   "id": "e9bc5bb5-36b1-49ab-b8be-870de09ed76c",
   "metadata": {},
   "outputs": [
    {
     "data": {
      "text/plain": [
       "tensor([[10, 10, 10, 10, 10],\n",
       "        [10, 10, 10, 10, 10],\n",
       "        [10, 10, 10, 10, 10],\n",
       "        [10, 10, 10, 10, 10]])"
      ]
     },
     "execution_count": 12,
     "metadata": {},
     "output_type": "execute_result"
    }
   ],
   "source": [
    "x_train = torch.full((4,5),10)\n",
    "x_train"
   ]
  },
  {
   "cell_type": "code",
   "execution_count": 51,
   "id": "054f1c7d-f833-4886-82d5-684d57d0c28b",
   "metadata": {},
   "outputs": [
    {
     "data": {
      "text/plain": [
       "tensor([1, 2, 3, 4, 5])"
      ]
     },
     "execution_count": 51,
     "metadata": {},
     "output_type": "execute_result"
    }
   ],
   "source": [
    "x_test = torch.arange(1,6)\n",
    "x_test"
   ]
  },
  {
   "cell_type": "code",
   "execution_count": 55,
   "id": "c5551a8d-7eed-4e8a-b894-9ef2283c01e3",
   "metadata": {},
   "outputs": [
    {
     "data": {
      "text/plain": [
       "tensor([[9, 8, 7, 6, 5],\n",
       "        [9, 8, 7, 6, 5],\n",
       "        [9, 8, 7, 6, 5],\n",
       "        [9, 8, 7, 6, 5]])"
      ]
     },
     "execution_count": 55,
     "metadata": {},
     "output_type": "execute_result"
    }
   ],
   "source": [
    "subs = x_train - x_test\n",
    "subs"
   ]
  },
  {
   "cell_type": "code",
   "execution_count": 53,
   "id": "5851eb20-6fc8-43e5-8136-080e6a840af3",
   "metadata": {},
   "outputs": [
    {
     "data": {
      "text/plain": [
       "tensor([[81, 64, 49, 36, 25],\n",
       "        [81, 64, 49, 36, 25],\n",
       "        [81, 64, 49, 36, 25],\n",
       "        [81, 64, 49, 36, 25]])"
      ]
     },
     "execution_count": 53,
     "metadata": {},
     "output_type": "execute_result"
    }
   ],
   "source": [
    "squared = torch.pow(subs, 2)\n",
    "squared"
   ]
  },
  {
   "cell_type": "markdown",
   "id": "b7891fc7-f98a-4e6f-83dd-1e3ef72c0e1b",
   "metadata": {},
   "source": [
    "Sum accross column = per row"
   ]
  },
  {
   "cell_type": "code",
   "execution_count": 54,
   "id": "af5a5acf-0b5b-44f3-8a08-6f9c1e86eb05",
   "metadata": {},
   "outputs": [
    {
     "data": {
      "text/plain": [
       "tensor([255, 255, 255, 255])"
      ]
     },
     "execution_count": 54,
     "metadata": {},
     "output_type": "execute_result"
    }
   ],
   "source": [
    "sum_per_row = torch.sum(squared, 1)\n",
    "sum_per_row"
   ]
  },
  {
   "cell_type": "code",
   "execution_count": 57,
   "id": "4167440f-2c49-47fc-b216-3f9cbc911819",
   "metadata": {},
   "outputs": [
    {
     "data": {
      "text/plain": [
       "tensor([[9., 8., 7., 6., 5.],\n",
       "        [9., 8., 7., 6., 5.],\n",
       "        [9., 8., 7., 6., 5.],\n",
       "        [9., 8., 7., 6., 5.]])"
      ]
     },
     "execution_count": 57,
     "metadata": {},
     "output_type": "execute_result"
    }
   ],
   "source": [
    "torch.sqrt(squared)"
   ]
  },
  {
   "cell_type": "markdown",
   "id": "c3162144-ec90-4e74-b33b-7924a18654a9",
   "metadata": {},
   "source": [
    "### Transposed"
   ]
  },
  {
   "cell_type": "code",
   "execution_count": 47,
   "id": "3e7e4ad0-3185-4268-bfb2-8babf4cf970c",
   "metadata": {},
   "outputs": [
    {
     "data": {
      "text/plain": [
       "tensor([[320],\n",
       "        [320],\n",
       "        [320],\n",
       "        [320]])"
      ]
     },
     "execution_count": 47,
     "metadata": {},
     "output_type": "execute_result"
    }
   ],
   "source": [
    "sum_per_row.view(4,-1)"
   ]
  },
  {
   "cell_type": "markdown",
   "id": "4f9cf59c-b728-4f5d-9414-11717839fb63",
   "metadata": {},
   "source": [
    "<h4><span style=\"color:green\">  Corrections and improvements</span></h4>"
   ]
  },
  {
   "cell_type": "markdown",
   "id": "eb53772d-7b48-46be-bb2b-384452904d90",
   "metadata": {},
   "source": [
    "<span style=\"color:green\"> No need to wrap with torch.func if the object is already a torch object !</span>"
   ]
  },
  {
   "cell_type": "markdown",
   "id": "ada45af9-551c-47fd-9f96-8d528e072ce0",
   "metadata": {},
   "source": [
    "### 2- Error estimation"
   ]
  },
  {
   "cell_type": "code",
   "execution_count": 253,
   "id": "978f2920-766a-4ffe-99cf-512131255af0",
   "metadata": {},
   "outputs": [],
   "source": [
    "def compute_nb_errors(train_input, train_target, test_input, test_target, mean = None, proj = None):\n",
    "    if mean is not None:\n",
    "        mean_t = mean.view(-1,1)\n",
    "        train_minus_mean = train_input - mean_t\n",
    "        test_minus_mean = test_input - mean_t\n",
    "    else:\n",
    "        train_minus_mean =  train_input - train_input[0].mean()\n",
    "        test_minus_mean =  test_input - test_input[0].mean()\n",
    "        \n",
    "    if proj is not None:\n",
    "        train_res_data = train_minus_mean.mm(proj.transpose(0,1))\n",
    "        test_res_data = test_minus_mean.mm(proj.transpose(0,1))\n",
    "\n",
    "    misclassified = 0\n",
    "    for i, test_row in enumerate(test_res_data):\n",
    "        label_test = nearest_classification(train_res_data, train_target, test_row)\n",
    "        if str(test_target[i]) != str(label_test):\n",
    "            misclassified += 1\n",
    "    \n",
    "    return misclassified \n",
    "    "
   ]
  },
  {
   "cell_type": "code",
   "execution_count": 354,
   "id": "8ffff208-e255-4a45-bd83-b1e191858908",
   "metadata": {},
   "outputs": [],
   "source": [
    "def compute_nb_errors(train_input, train_target, test_input, test_target, mean = None, proj = None):\n",
    "    if mean is not None:\n",
    "        mean_t = mean.view(-1,1)\n",
    "        train_input = train_input - mean_t\n",
    "        test_input = test_input - mean_t\n",
    "        \n",
    "    if proj is not None:\n",
    "        train_input = train_input.mm(proj.transpose(0,1))\n",
    "        test_input = test_input.mm(proj.transpose(0,1))\n",
    "\n",
    "    misclassified = 0\n",
    "    for i, test_row in enumerate(test_input):\n",
    "        label_test = nearest_classification(train_input, train_target, test_row)\n",
    "        if str(test_target[i]) != str(label_test):\n",
    "            misclassified += 1\n",
    "    \n",
    "    return misclassified \n",
    "    "
   ]
  },
  {
   "cell_type": "markdown",
   "id": "922f56ad-6703-4500-baef-b49615d158d5",
   "metadata": {},
   "source": [
    "<h3><span style=\"color:green\">  Corrections and improvements</span></h4>"
   ]
  },
  {
   "cell_type": "markdown",
   "id": "5b30d87a-d51b-4d3d-9476-d02732707d63",
   "metadata": {},
   "source": [
    "<span style=\"color:green\"> Smarted way to access response label, better function to transpose </span>"
   ]
  },
  {
   "cell_type": "code",
   "execution_count": 355,
   "id": "6521403d-7e4a-47bf-b5a5-fbee0f43293c",
   "metadata": {},
   "outputs": [],
   "source": [
    "def compute_nb_errors(train_input, train_target,\n",
    "                      test_input, test_target,\n",
    "                      mean = None, proj = None):\n",
    "\n",
    "    if mean is not None:\n",
    "        train_input = train_input - mean\n",
    "        test_input = test_input - mean\n",
    "\n",
    "    if proj is not None:\n",
    "        train_input = train_input @ proj.t()\n",
    "        test_input = test_input @ proj.t()\n",
    "\n",
    "    nb_errors = 0\n",
    "\n",
    "    # With loop, but I prefer clearer code when counting errors\n",
    "    for n in range(test_input.size(0)):\n",
    "        if test_target[n] != nearest_classification(train_input, train_target, test_input[n]):\n",
    "            nb_errors = nb_errors + 1\n",
    "\n",
    "    return nb_errors"
   ]
  },
  {
   "cell_type": "markdown",
   "id": "a71a3c8e-59ce-48f9-b248-2ea5145d6bad",
   "metadata": {},
   "source": [
    "#### Draft"
   ]
  },
  {
   "cell_type": "code",
   "execution_count": 255,
   "id": "94ee618e-35b3-4fac-86c9-21217d42af2b",
   "metadata": {},
   "outputs": [],
   "source": [
    "proj = torch.randn(100, 784)\n",
    "misclassified = compute_nb_errors(train_input =  train_input, train_target = train_target, test_input = test_input, test_target = test_target, mean = None, proj = proj)"
   ]
  },
  {
   "cell_type": "code",
   "execution_count": 258,
   "id": "6df2f137-ff6d-4048-ac27-285ac5e9f747",
   "metadata": {},
   "outputs": [
    {
     "data": {
      "text/plain": [
       "18.7"
      ]
     },
     "execution_count": 258,
     "metadata": {},
     "output_type": "execute_result"
    }
   ],
   "source": [
    "misclassified / test_input.size()[0] * 100\n"
   ]
  },
  {
   "cell_type": "code",
   "execution_count": null,
   "id": "f56e4039-8487-4812-ba54-73573817f5c4",
   "metadata": {},
   "outputs": [],
   "source": [
    "mean = train_input[0].mean()"
   ]
  },
  {
   "cell_type": "code",
   "execution_count": 216,
   "id": "373dbe65-1fe3-4b89-b554-592dcfdf5447",
   "metadata": {},
   "outputs": [],
   "source": [
    "train_minus_mean =  train_input - train_input[0].mean()\n",
    "test_minus_mean =  test_input - test_input[0].mean()"
   ]
  },
  {
   "cell_type": "code",
   "execution_count": 218,
   "id": "faaa398d-e8cb-4f71-b76f-7c33dae74680",
   "metadata": {},
   "outputs": [],
   "source": [
    "proj = torch.randn(100, 784)"
   ]
  },
  {
   "cell_type": "code",
   "execution_count": 226,
   "id": "a726d47a-65e9-4a6d-b46f-ab4d5b21144e",
   "metadata": {},
   "outputs": [
    {
     "data": {
      "text/plain": [
       "torch.Size([784, 100])"
      ]
     },
     "execution_count": 226,
     "metadata": {},
     "output_type": "execute_result"
    }
   ],
   "source": [
    "proj.transpose(0, 1)"
   ]
  },
  {
   "cell_type": "code",
   "execution_count": 248,
   "id": "1aa58fb4-bbcf-4e76-b3a3-79935b254bb3",
   "metadata": {},
   "outputs": [
    {
     "data": {
      "text/plain": [
       "torch.Size([1000, 784])"
      ]
     },
     "execution_count": 248,
     "metadata": {},
     "output_type": "execute_result"
    }
   ],
   "source": [
    "train_input.size()"
   ]
  },
  {
   "cell_type": "code",
   "execution_count": 228,
   "id": "f5790fcc-9db7-4a1e-9150-afb31a534d91",
   "metadata": {},
   "outputs": [],
   "source": [
    "train_res_data = train_minus_mean.mm(proj.transpose(0,1))\n",
    "test_res_data = test_minus_mean.mm(proj.transpose(0,1))"
   ]
  },
  {
   "cell_type": "code",
   "execution_count": 237,
   "id": "3292d7ec-5a6f-476b-937f-465fa302ce22",
   "metadata": {},
   "outputs": [
    {
     "data": {
      "text/plain": [
       "torch.Size([1000, 100])"
      ]
     },
     "execution_count": 237,
     "metadata": {},
     "output_type": "execute_result"
    }
   ],
   "source": [
    "train_res_data.size()"
   ]
  },
  {
   "cell_type": "code",
   "execution_count": 241,
   "id": "c71ba6e2-f80d-4dfb-8be3-7a63d1cddb3c",
   "metadata": {},
   "outputs": [
    {
     "data": {
      "text/plain": [
       "torch.Size([1000, 100])"
      ]
     },
     "execution_count": 241,
     "metadata": {},
     "output_type": "execute_result"
    }
   ],
   "source": [
    "test_res_data.size()"
   ]
  },
  {
   "cell_type": "code",
   "execution_count": 246,
   "id": "62bec6f0-25bd-4745-9859-a3a84ae947ae",
   "metadata": {},
   "outputs": [
    {
     "data": {
      "text/plain": [
       "tensor(5)"
      ]
     },
     "execution_count": 246,
     "metadata": {},
     "output_type": "execute_result"
    }
   ],
   "source": [
    "nearest_classification(train_res_data, train_target, test_res_data[856])"
   ]
  },
  {
   "cell_type": "code",
   "execution_count": 247,
   "id": "50ddc570-698e-41f8-8dd3-fd60d0d13302",
   "metadata": {},
   "outputs": [
    {
     "data": {
      "text/plain": [
       "tensor(5)"
      ]
     },
     "execution_count": 247,
     "metadata": {},
     "output_type": "execute_result"
    }
   ],
   "source": [
    "test_target[856]"
   ]
  },
  {
   "cell_type": "code",
   "execution_count": 217,
   "id": "748326ac-9edd-4799-95a2-67d4083faf64",
   "metadata": {},
   "outputs": [
    {
     "data": {
      "text/plain": [
       "torch.Size([1000, 784])"
      ]
     },
     "execution_count": 217,
     "metadata": {},
     "output_type": "execute_result"
    }
   ],
   "source": [
    "train_input.size()"
   ]
  },
  {
   "cell_type": "code",
   "execution_count": 195,
   "id": "a40c06d6-905c-4f4b-a088-92a98a8fbb2c",
   "metadata": {},
   "outputs": [
    {
     "data": {
      "text/plain": [
       "torch.Size([1000])"
      ]
     },
     "execution_count": 195,
     "metadata": {},
     "output_type": "execute_result"
    }
   ],
   "source": [
    "train_input.mean(1).size()"
   ]
  },
  {
   "cell_type": "code",
   "execution_count": 208,
   "id": "e266cd54-a758-4543-9906-640038cceacb",
   "metadata": {},
   "outputs": [
    {
     "data": {
      "text/plain": [
       "tensor(-0.4512)"
      ]
     },
     "execution_count": 208,
     "metadata": {},
     "output_type": "execute_result"
    }
   ],
   "source": [
    "train_input[0][0] - train_input[0].mean()"
   ]
  },
  {
   "cell_type": "code",
   "execution_count": 206,
   "id": "98039e95-4f7b-40d8-99f5-bb1b30689e85",
   "metadata": {},
   "outputs": [
    {
     "data": {
      "text/plain": [
       "tensor(0.0309)"
      ]
     },
     "execution_count": 206,
     "metadata": {},
     "output_type": "execute_result"
    }
   ],
   "source": [
    "train_input[0].mean()"
   ]
  },
  {
   "cell_type": "code",
   "execution_count": 203,
   "id": "166e141b-d321-4004-9c8c-add64e731bca",
   "metadata": {},
   "outputs": [
    {
     "data": {
      "text/plain": [
       "tensor([[-0.4512, -0.4512, -0.4512,  ..., -0.4512, -0.4512, -0.4512],\n",
       "        [-0.5097, -0.5097, -0.5097,  ..., -0.5097, -0.5097, -0.5097],\n",
       "        [-0.3187, -0.3187, -0.3187,  ..., -0.3187, -0.3187, -0.3187],\n",
       "        ...,\n",
       "        [-0.5174, -0.5174, -0.5174,  ..., -0.5174, -0.5174, -0.5174],\n",
       "        [-0.3716, -0.3716, -0.3716,  ..., -0.3716, -0.3716, -0.3716],\n",
       "        [-0.4198, -0.4198, -0.4198,  ..., -0.4198, -0.4198, -0.4198]])"
      ]
     },
     "execution_count": 203,
     "metadata": {},
     "output_type": "execute_result"
    }
   ],
   "source": [
    "train_input - train_input.mean(1).view(1000,1)"
   ]
  },
  {
   "cell_type": "code",
   "execution_count": 199,
   "id": "cda434fc-a124-4a4d-bc86-f90fb909b68f",
   "metadata": {},
   "outputs": [
    {
     "data": {
      "text/plain": [
       "torch.Size([1000])"
      ]
     },
     "execution_count": 199,
     "metadata": {},
     "output_type": "execute_result"
    }
   ],
   "source": [
    "train_input.mean(1).size()"
   ]
  },
  {
   "cell_type": "markdown",
   "id": "9bba260f-d0ea-4178-948e-089f30307f3a",
   "metadata": {},
   "source": [
    "### 3 - PCA"
   ]
  },
  {
   "cell_type": "code",
   "execution_count": 369,
   "id": "5715d412-e6ce-4ed6-88b4-121f2d001bc0",
   "metadata": {},
   "outputs": [],
   "source": [
    "def PCA(x):\n",
    "    mean = x.mean(0)\n",
    "    b = x - mean\n",
    "    eigen_values, eigen_vectors = torch.linalg.eigh(b.t().mm(b))\n",
    "    right_order = eigen_values.abs().argsort(descending = True)\n",
    "    eigen_vectors = eigen_vectors.t()[right_order]\n",
    "    return mean, eigen_vectors\n",
    "\n",
    "\n",
    "# def PCA(x):\n",
    "#     mean = x.mean(0)\n",
    "#     b = x - mean\n",
    "#     Sigma = b.t() @ b\n",
    "#     eigen_values, eigen_vectors = Sigma.eig(True)\n",
    "#     right_order = eigen_values[:, 0].abs().sort(descending = True)[1]\n",
    "#     eigen_vectors = eigen_vectors.t()[right_order]\n",
    "#     return mean, eigen_vectors"
   ]
  },
  {
   "cell_type": "code",
   "execution_count": 370,
   "id": "c10c0469-8b4b-43c8-b29c-7baaf6581a36",
   "metadata": {},
   "outputs": [],
   "source": [
    "mean, eigen_vectors = PCA(train_input)"
   ]
  },
  {
   "cell_type": "code",
   "execution_count": 329,
   "id": "b534ac95-b402-4f54-ba65-333ccf4fac4f",
   "metadata": {},
   "outputs": [],
   "source": [
    "# eigen_values, eigen_vectors  = torch.linalg.eigh(x.mm(x.t()))\n",
    "# eigen_values"
   ]
  },
  {
   "cell_type": "code",
   "execution_count": 328,
   "id": "abe3d087-d4be-46f2-965d-1b9ee25ff00b",
   "metadata": {},
   "outputs": [],
   "source": [
    "# sorted_indices = torch.argsort(eigen_values, descending=True)\n",
    "# sorted_indices"
   ]
  },
  {
   "cell_type": "code",
   "execution_count": 311,
   "id": "022bcc6d-fedb-407f-8dad-7466776e3e08",
   "metadata": {},
   "outputs": [],
   "source": [
    "# right_order = eigen_values.abs().argsort(descending = True)\n",
    "# right_order"
   ]
  },
  {
   "cell_type": "code",
   "execution_count": 330,
   "id": "f3eda03f-020d-4657-8520-1aa3baf814ed",
   "metadata": {},
   "outputs": [],
   "source": [
    "# eigen_vectors = eigen_vectors.t()[right_order]\n",
    "# eigen_vectors"
   ]
  },
  {
   "cell_type": "code",
   "execution_count": 327,
   "id": "53f228d0-c76c-4266-bc4b-183dd71e73b9",
   "metadata": {},
   "outputs": [],
   "source": [
    "# sorted_indices = torch.argsort(eigen_values2, descending=True)\n",
    "# sorted_indices"
   ]
  },
  {
   "cell_type": "code",
   "execution_count": 326,
   "id": "040ee33d-3b31-47f2-aa3e-42d20e432c5a",
   "metadata": {},
   "outputs": [],
   "source": [
    "# eigenvectors = torch.linalg.eig(x.mm(x.t()))[1]\n",
    "# eigenvectors[0]"
   ]
  },
  {
   "cell_type": "code",
   "execution_count": 371,
   "id": "e6e6bb86-4597-4c03-9573-ec38c62f34e3",
   "metadata": {},
   "outputs": [
    {
     "data": {
      "text/plain": [
       "tensor([[-1.5607e-15,  1.9372e-07,  1.1921e-06,  ...,  2.8284e-08,\n",
       "          2.8284e-08,  2.8284e-08],\n",
       "        [ 1.8332e-16, -2.6077e-08, -7.4506e-08,  ..., -5.0282e-09,\n",
       "         -5.0282e-09, -5.0282e-09],\n",
       "        [-3.4568e-16, -9.3132e-09,  1.1176e-07,  ...,  1.2443e-08,\n",
       "          1.2443e-08,  1.2443e-08],\n",
       "        ...,\n",
       "        [ 0.0000e+00, -2.9116e-04, -6.0156e-05,  ..., -1.6670e-02,\n",
       "          1.1800e-01,  1.1800e-01],\n",
       "        [ 1.0000e+00,  5.8403e-11,  5.8193e-11,  ...,  5.8381e-11,\n",
       "          5.8381e-11,  5.8381e-11],\n",
       "        [ 0.0000e+00,  6.0111e-11, -9.2610e-11,  ...,  3.7327e-08,\n",
       "         -7.0711e-01,  7.0711e-01]])"
      ]
     },
     "execution_count": 371,
     "metadata": {},
     "output_type": "execute_result"
    }
   ],
   "source": [
    "eigen_vectors"
   ]
  },
  {
   "cell_type": "code",
   "execution_count": 366,
   "id": "bbdda13d-cfda-41c2-b278-0e73b029f271",
   "metadata": {},
   "outputs": [
    {
     "data": {
      "text/plain": [
       "torch.Size([784, 784])"
      ]
     },
     "execution_count": 366,
     "metadata": {},
     "output_type": "execute_result"
    }
   ],
   "source": [
    "eigen_vectors.size()"
   ]
  },
  {
   "cell_type": "code",
   "execution_count": 273,
   "id": "d29fcde5-852b-452a-8080-b6a15a0bdff2",
   "metadata": {},
   "outputs": [
    {
     "data": {
      "text/plain": [
       "torch.Size([784])"
      ]
     },
     "execution_count": 273,
     "metadata": {},
     "output_type": "execute_result"
    }
   ],
   "source": [
    "x.mean(0).size()"
   ]
  },
  {
   "cell_type": "code",
   "execution_count": 272,
   "id": "7f369927-fff9-4023-84d9-9a2123ab5b0f",
   "metadata": {},
   "outputs": [
    {
     "data": {
      "text/plain": [
       "torch.Size([1000, 784])"
      ]
     },
     "execution_count": 272,
     "metadata": {},
     "output_type": "execute_result"
    }
   ],
   "source": [
    "x.size()"
   ]
  },
  {
   "cell_type": "markdown",
   "id": "65dcce70-a102-4831-8a36-83fd6e176b20",
   "metadata": {},
   "source": [
    "<h4><span style=\"color:green\">  Corrections and improvements</span></h4>"
   ]
  },
  {
   "cell_type": "code",
   "execution_count": 322,
   "id": "e5999641-a68e-40da-8f63-f3a111081e1a",
   "metadata": {},
   "outputs": [],
   "source": [
    "def PCA(x):\n",
    "    mean = x.mean(0)\n",
    "    b = x - mean\n",
    "    Sigma = b.t() @ b\n",
    "    eigen_values, eigen_vectors = Sigma.eig(True)\n",
    "    right_order = eigen_values[:, 0].abs().sort(descending = True)[1]\n",
    "    eigen_vectors = eigen_vectors.t()[right_order]\n",
    "    return mean, eigen_vectors\n"
   ]
  },
  {
   "cell_type": "code",
   "execution_count": 323,
   "id": "fe791eb1-266d-4676-9812-7baaa0f4f61c",
   "metadata": {},
   "outputs": [
    {
     "ename": "IndexError",
     "evalue": "too many indices for tensor of dimension 1",
     "output_type": "error",
     "traceback": [
      "\u001b[0;31m---------------------------------------------------------------------------\u001b[0m",
      "\u001b[0;31mIndexError\u001b[0m                                Traceback (most recent call last)",
      "Cell \u001b[0;32mIn[323], line 1\u001b[0m\n\u001b[0;32m----> 1\u001b[0m \u001b[43mPCA\u001b[49m\u001b[43m(\u001b[49m\u001b[43mx\u001b[49m\u001b[43m)\u001b[49m\n",
      "Cell \u001b[0;32mIn[322], line 6\u001b[0m, in \u001b[0;36mPCA\u001b[0;34m(x)\u001b[0m\n\u001b[1;32m      4\u001b[0m Sigma \u001b[38;5;241m=\u001b[39m b\u001b[38;5;241m.\u001b[39mt() \u001b[38;5;241m@\u001b[39m b\n\u001b[1;32m      5\u001b[0m eigen_values, eigen_vectors \u001b[38;5;241m=\u001b[39m torch\u001b[38;5;241m.\u001b[39mlinalg\u001b[38;5;241m.\u001b[39meig(Sigma)\n\u001b[0;32m----> 6\u001b[0m right_order \u001b[38;5;241m=\u001b[39m \u001b[43meigen_values\u001b[49m\u001b[43m[\u001b[49m\u001b[43m:\u001b[49m\u001b[43m,\u001b[49m\u001b[43m \u001b[49m\u001b[38;5;241;43m0\u001b[39;49m\u001b[43m]\u001b[49m\u001b[38;5;241m.\u001b[39mabs()\u001b[38;5;241m.\u001b[39msort(descending \u001b[38;5;241m=\u001b[39m \u001b[38;5;28;01mTrue\u001b[39;00m)[\u001b[38;5;241m1\u001b[39m]\n\u001b[1;32m      7\u001b[0m eigen_vectors \u001b[38;5;241m=\u001b[39m eigen_vectors\u001b[38;5;241m.\u001b[39mt()[right_order]\n\u001b[1;32m      8\u001b[0m \u001b[38;5;28;01mreturn\u001b[39;00m mean, eigen_vectors\n",
      "\u001b[0;31mIndexError\u001b[0m: too many indices for tensor of dimension 1"
     ]
    }
   ],
   "source": [
    "PCA(x)"
   ]
  },
  {
   "cell_type": "markdown",
   "id": "3a91a640-f058-4450-9177-98935cbc18e8",
   "metadata": {},
   "source": [
    "<span style=\"color:green\"> The problem is that .eig has been depreciated.</span>\n",
    "<br>\n",
    "<span style=\"color:green\"> Another very important thing I had to correct was how to create the covariance matrice so it is of the dimension of the features and not of the data... !</span>"
   ]
  },
  {
   "cell_type": "markdown",
   "id": "2a9f4513-69a2-4b2c-8c69-839df91c2e57",
   "metadata": {},
   "source": [
    "### 4 - Check that all this makes sense\n"
   ]
  },
  {
   "cell_type": "markdown",
   "id": "57cb6a81-4289-48de-acda-94268a058288",
   "metadata": {},
   "source": [
    "Random projection"
   ]
  },
  {
   "cell_type": "code",
   "execution_count": 335,
   "id": "3e665ac4-a4c8-43bc-9445-dd532241f209",
   "metadata": {},
   "outputs": [
    {
     "data": {
      "text/plain": [
       "24.872448979591837"
      ]
     },
     "execution_count": 335,
     "metadata": {},
     "output_type": "execute_result"
    }
   ],
   "source": [
    "proj = torch.randn(100, 784)\n",
    "misclassified = compute_nb_errors(train_input =  train_input, train_target = train_target, test_input = test_input, test_target = test_target, mean = None, proj = proj)\n",
    "misclassified / test_input.size(1) * 100"
   ]
  },
  {
   "cell_type": "code",
   "execution_count": 373,
   "id": "72ae9bf9-8bd0-42f1-a122-537cc907d812",
   "metadata": {},
   "outputs": [],
   "source": []
  },
  {
   "cell_type": "code",
   "execution_count": 374,
   "id": "daf6ee24-38a5-4403-9424-70fc130e07a7",
   "metadata": {},
   "outputs": [
    {
     "data": {
      "text/plain": [
       "21.93877551020408"
      ]
     },
     "execution_count": 374,
     "metadata": {},
     "output_type": "execute_result"
    }
   ],
   "source": [
    "mean, proj = PCA(train_input)\n",
    "misclassified = compute_nb_errors(train_input =  train_input, train_target = train_target, test_input = test_input, test_target = test_target, mean = None, proj = proj)\n",
    "misclassified / test_input.size(1) * 100"
   ]
  },
  {
   "cell_type": "code",
   "execution_count": 380,
   "id": "74d023e2-58a8-4fbc-becc-972104b6f0c8",
   "metadata": {},
   "outputs": [
    {
     "data": {
      "text/plain": [
       "76.14795918367348"
      ]
     },
     "execution_count": 380,
     "metadata": {},
     "output_type": "execute_result"
    }
   ],
   "source": [
    "mean, proj = PCA(train_input)\n",
    "misclassified = compute_nb_errors(train_input =  train_input, train_target = train_target, test_input = test_input, test_target = test_target, mean = None, proj = proj[:3,:])\n",
    "misclassified / test_input.size(1) * 100"
   ]
  },
  {
   "cell_type": "code",
   "execution_count": 382,
   "id": "a404cac6-faa8-4ddb-8760-cfbf377e090c",
   "metadata": {},
   "outputs": [
    {
     "data": {
      "text/plain": [
       "27.29591836734694"
      ]
     },
     "execution_count": 382,
     "metadata": {},
     "output_type": "execute_result"
    }
   ],
   "source": [
    "mean, proj = PCA(train_input)\n",
    "misclassified = compute_nb_errors(train_input =  train_input, train_target = train_target, test_input = test_input, test_target = test_target, mean = None, proj = proj[:10,:])\n",
    "misclassified / test_input.size(1) * 100"
   ]
  },
  {
   "cell_type": "code",
   "execution_count": 383,
   "id": "0f95bc72-15f0-47c5-92e6-b0d041dc28d1",
   "metadata": {},
   "outputs": [
    {
     "data": {
      "text/plain": [
       "27.29591836734694"
      ]
     },
     "execution_count": 383,
     "metadata": {},
     "output_type": "execute_result"
    }
   ],
   "source": [
    "mean, proj = PCA(train_input)\n",
    "misclassified = compute_nb_errors(train_input =  train_input, train_target = train_target, test_input = test_input, test_target = test_target, mean = None, proj = proj[:10,:])\n",
    "misclassified / test_input.size(1) * 100"
   ]
  },
  {
   "cell_type": "code",
   "execution_count": 384,
   "id": "01c62714-3e10-4ac1-b024-e1a582ff377f",
   "metadata": {},
   "outputs": [
    {
     "data": {
      "text/plain": [
       "19.77040816326531"
      ]
     },
     "execution_count": 384,
     "metadata": {},
     "output_type": "execute_result"
    }
   ],
   "source": [
    "mean, proj = PCA(train_input)\n",
    "misclassified = compute_nb_errors(train_input =  train_input, train_target = train_target, test_input = test_input, test_target = test_target, mean = None, proj = proj[:50,:])\n",
    "misclassified / test_input.size(1) * 100"
   ]
  },
  {
   "cell_type": "code",
   "execution_count": 385,
   "id": "afd9d3f7-fb46-4921-b69e-48fa677063c0",
   "metadata": {},
   "outputs": [
    {
     "data": {
      "text/plain": [
       "20.918367346938776"
      ]
     },
     "execution_count": 385,
     "metadata": {},
     "output_type": "execute_result"
    }
   ],
   "source": [
    "mean, proj = PCA(train_input)\n",
    "misclassified = compute_nb_errors(train_input =  train_input, train_target = train_target, test_input = test_input, test_target = test_target, mean = None, proj = proj[:100,:])\n",
    "misclassified / test_input.size(1) * 100"
   ]
  },
  {
   "cell_type": "code",
   "execution_count": 361,
   "id": "8a901d78-4360-4184-b435-dd2a19cd4162",
   "metadata": {},
   "outputs": [
    {
     "data": {
      "text/plain": [
       "torch.Size([1000])"
      ]
     },
     "execution_count": 361,
     "metadata": {},
     "output_type": "execute_result"
    }
   ],
   "source": [
    "train_target.size()"
   ]
  },
  {
   "cell_type": "code",
   "execution_count": 395,
   "id": "aebd4b62-33f9-464e-92b0-d551fccc3a8f",
   "metadata": {},
   "outputs": [
    {
     "name": "stdout",
     "output_type": "stream",
     "text": [
      "* Using CIFAR\n",
      "Files already downloaded and verified\n",
      "Files already downloaded and verified\n",
      "** Reduce the data-set (use --full for the full thing)\n",
      "** Use 1000 train and 1000 test samples\n"
     ]
    }
   ],
   "source": [
    "train_input, train_target, test_input, test_target = prologue.load_data(cifar=True,\n",
    "     one_hot_labels=False, normalize=True, flatten=True\n",
    ")"
   ]
  },
  {
   "cell_type": "code",
   "execution_count": 388,
   "id": "9bdf5972-173c-4cc3-aea1-9822bd580493",
   "metadata": {},
   "outputs": [
    {
     "data": {
      "text/plain": [
       "27.311197916666668"
      ]
     },
     "execution_count": 388,
     "metadata": {},
     "output_type": "execute_result"
    }
   ],
   "source": [
    "mean, proj = PCA(train_input)\n",
    "misclassified = compute_nb_errors(train_input =  train_input, train_target = train_target, test_input = test_input, test_target = test_target, mean = None, proj = proj[:3,:])\n",
    "misclassified / test_input.size(1) * 100"
   ]
  },
  {
   "cell_type": "code",
   "execution_count": 389,
   "id": "5a663179-54c8-4eac-9e15-c6382a3da198",
   "metadata": {},
   "outputs": [
    {
     "data": {
      "text/plain": [
       "24.837239583333336"
      ]
     },
     "execution_count": 389,
     "metadata": {},
     "output_type": "execute_result"
    }
   ],
   "source": [
    "mean, proj = PCA(train_input)\n",
    "misclassified = compute_nb_errors(train_input =  train_input, train_target = train_target, test_input = test_input, test_target = test_target, mean = None, proj = proj[:10,:])\n",
    "misclassified / test_input.size(1) * 100"
   ]
  },
  {
   "cell_type": "code",
   "execution_count": 390,
   "id": "25b0cd5d-ad30-44ee-ab08-7b84ef979a26",
   "metadata": {},
   "outputs": [
    {
     "data": {
      "text/plain": [
       "24.837239583333336"
      ]
     },
     "execution_count": 390,
     "metadata": {},
     "output_type": "execute_result"
    }
   ],
   "source": [
    "mean, proj = PCA(train_input)\n",
    "misclassified = compute_nb_errors(train_input =  train_input, train_target = train_target, test_input = test_input, test_target = test_target, mean = None, proj = proj[:10,:])\n",
    "misclassified / test_input.size(1) * 100"
   ]
  },
  {
   "cell_type": "code",
   "execution_count": 391,
   "id": "296f1a8f-d4c0-4e8d-b892-30e7b6696cbf",
   "metadata": {},
   "outputs": [
    {
     "data": {
      "text/plain": [
       "23.990885416666664"
      ]
     },
     "execution_count": 391,
     "metadata": {},
     "output_type": "execute_result"
    }
   ],
   "source": [
    "mean, proj = PCA(train_input)\n",
    "misclassified = compute_nb_errors(train_input =  train_input, train_target = train_target, test_input = test_input, test_target = test_target, mean = None, proj = proj[:50,:])\n",
    "misclassified / test_input.size(1) * 100"
   ]
  },
  {
   "cell_type": "code",
   "execution_count": 392,
   "id": "7c95773f-3e22-4e3f-b1cd-95a4a068277f",
   "metadata": {},
   "outputs": [
    {
     "data": {
      "text/plain": [
       "24.251302083333336"
      ]
     },
     "execution_count": 392,
     "metadata": {},
     "output_type": "execute_result"
    }
   ],
   "source": [
    "mean, proj = PCA(train_input)\n",
    "misclassified = compute_nb_errors(train_input =  train_input, train_target = train_target, test_input = test_input, test_target = test_target, mean = None, proj = proj[:100,:])\n",
    "misclassified / test_input.size(1) * 100"
   ]
  },
  {
   "cell_type": "code",
   "execution_count": 393,
   "id": "7010c39c-f1f3-49f5-8e89-1da148cbe0b2",
   "metadata": {},
   "outputs": [
    {
     "data": {
      "text/plain": [
       "torch.Size([1000])"
      ]
     },
     "execution_count": 393,
     "metadata": {},
     "output_type": "execute_result"
    }
   ],
   "source": [
    "train_target.size()"
   ]
  },
  {
   "cell_type": "markdown",
   "id": "b849f2d0-14d2-414f-aeeb-14765d912e43",
   "metadata": {},
   "source": [
    "It makes sense that since CIFAR has a more complex distribution the algorithms work less well. It also makes sense that reducing too much the data leads to a perf degradation but finding the optimal dimension reduction leads to an improvement in performance."
   ]
  },
  {
   "cell_type": "code",
   "execution_count": null,
   "id": "95902914-a334-4168-8c78-ba6e6388c2ee",
   "metadata": {},
   "outputs": [],
   "source": []
  }
 ],
 "metadata": {
  "kernelspec": {
   "display_name": "Python 3 (ipykernel)",
   "language": "python",
   "name": "python3"
  },
  "language_info": {
   "codemirror_mode": {
    "name": "ipython",
    "version": 3
   },
   "file_extension": ".py",
   "mimetype": "text/x-python",
   "name": "python",
   "nbconvert_exporter": "python",
   "pygments_lexer": "ipython3",
   "version": "3.11.2"
  }
 },
 "nbformat": 4,
 "nbformat_minor": 5
}
