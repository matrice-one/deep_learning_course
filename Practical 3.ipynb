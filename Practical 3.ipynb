{
 "cells": [
  {
   "cell_type": "markdown",
   "id": "1d755a20-cd55-441a-b096-05c5a809bd63",
   "metadata": {},
   "source": [
    "## Practical Session 3"
   ]
  },
  {
   "cell_type": "code",
   "execution_count": 1,
   "id": "346b72d1-7558-4ce7-ac5b-9b8d1bda8ac2",
   "metadata": {},
   "outputs": [],
   "source": [
    "import torch\n",
    "from torch import Tensor\n",
    "import dlc_practical_prologue as prologue\n",
    "\n",
    "class Args:\n",
    "    full = True\n",
    "    tiny = True\n",
    "    seed = 42\n",
    "    cifar = False\n",
    "    data_dir = './data'\n",
    "    file = None\n",
    "\n",
    "args = Args()"
   ]
  },
  {
   "cell_type": "code",
   "execution_count": 2,
   "id": "860b1778-0dcf-4746-a066-54e1c570be0d",
   "metadata": {},
   "outputs": [
    {
     "name": "stdout",
     "output_type": "stream",
     "text": [
      "* Using MNIST\n",
      "** Reduce the data-set (use --full for the full thing)\n",
      "** Use 1000 train and 1000 test samples\n"
     ]
    }
   ],
   "source": [
    "train_input, train_target, test_input, test_target = prologue.load_data(\n",
    "     one_hot_labels=False, normalize=True, flatten=True\n",
    ")"
   ]
  },
  {
   "cell_type": "markdown",
   "id": "6de5f52a-d709-488a-a026-c3603457e8a3",
   "metadata": {},
   "source": [
    "### 1- Activation Function"
   ]
  },
  {
   "cell_type": "code",
   "execution_count": 25,
   "id": "59669664-4038-423c-97eb-a73ad9fd5df5",
   "metadata": {},
   "outputs": [],
   "source": [
    "def sigma(x):\n",
    "    return torch.tanh(x)\n",
    "\n",
    "def dsigma(x):\n",
    "    return 1-torch.tanh(x).pow(2)\n",
    "\n",
    "def alt_dsigma(x):\n",
    "    return 4 * (x.exp() + x.mul(-1).exp()).pow(-2)"
   ]
  },
  {
   "cell_type": "code",
   "execution_count": 29,
   "id": "259e31c1-cd78-4678-82dd-449158dce5d2",
   "metadata": {},
   "outputs": [],
   "source": [
    "x = train_input\n",
    "y = train_target"
   ]
  },
  {
   "cell_type": "code",
   "execution_count": 34,
   "id": "c38b1b4b-69aa-4423-a5fb-867826780086",
   "metadata": {},
   "outputs": [],
   "source": [
    "y_test = test_target"
   ]
  },
  {
   "cell_type": "code",
   "execution_count": 32,
   "id": "a1d4fdd7-9293-4f28-ae0c-4e486238867e",
   "metadata": {},
   "outputs": [
    {
     "data": {
      "text/plain": [
       "torch.Size([1000, 784])"
      ]
     },
     "execution_count": 32,
     "metadata": {},
     "output_type": "execute_result"
    }
   ],
   "source": [
    "x.size()"
   ]
  },
  {
   "cell_type": "code",
   "execution_count": 35,
   "id": "cec573dd-7ed3-4000-a24f-dba01745dcf1",
   "metadata": {},
   "outputs": [
    {
     "data": {
      "text/plain": [
       "torch.Size([1000])"
      ]
     },
     "execution_count": 35,
     "metadata": {},
     "output_type": "execute_result"
    }
   ],
   "source": [
    "y_test.size()"
   ]
  },
  {
   "cell_type": "markdown",
   "id": "c8d78092-73fe-4aaf-8dac-d966f97a578c",
   "metadata": {},
   "source": [
    "### 2 - Loss"
   ]
  },
  {
   "cell_type": "code",
   "execution_count": 131,
   "id": "7b2a73ac-ecfc-4e0a-b31b-78bab1debcd0",
   "metadata": {},
   "outputs": [],
   "source": [
    "def loss(v, t):\n",
    "    return (v - t).pow(2).sum()\n",
    "\n",
    "\n",
    "def dloss(v, t):\n",
    "    return 2 * (v - t)"
   ]
  },
  {
   "cell_type": "markdown",
   "id": "4e95ef5b-64ef-4f37-8c77-a30249ebd13d",
   "metadata": {},
   "source": [
    "<h3><span style=\"color:green\">Correction</span></h3>"
   ]
  },
  {
   "cell_type": "markdown",
   "id": "b46de666-72b5-47a8-afab-5aeb76bf0729",
   "metadata": {},
   "source": [
    "<span style=\"color:green\">The gradient with respect to v gets one gradient per sample! Even in batch gradient descent.</span>"
   ]
  },
  {
   "cell_type": "code",
   "execution_count": 41,
   "id": "9cc2f8b4-fbe4-4f86-b4e0-e8ae2c3e49c4",
   "metadata": {},
   "outputs": [],
   "source": [
    "def loss(v, t):\n",
    "    return (v - t).sum().pow(2)\n",
    "\n",
    "\n",
    "def dloss(v, t):\n",
    "    return 2 * (v - t)"
   ]
  },
  {
   "cell_type": "code",
   "execution_count": 47,
   "id": "fc86858b-684f-40e2-a8a4-aee35f6d7115",
   "metadata": {},
   "outputs": [
    {
     "data": {
      "text/plain": [
       "tensor(16789)"
      ]
     },
     "execution_count": 47,
     "metadata": {},
     "output_type": "execute_result"
    }
   ],
   "source": [
    "loss(y_test, y)"
   ]
  },
  {
   "cell_type": "code",
   "execution_count": 50,
   "id": "bbb2bad8-76df-4894-8b1e-b7d42ce85e2d",
   "metadata": {},
   "outputs": [
    {
     "data": {
      "text/plain": [
       "tensor(4)"
      ]
     },
     "execution_count": 50,
     "metadata": {},
     "output_type": "execute_result"
    }
   ],
   "source": [
    "dloss(y_test, y)[0]"
   ]
  },
  {
   "cell_type": "markdown",
   "id": "57055861-4737-474f-9ebb-20b438e372db",
   "metadata": {},
   "source": [
    "### 3 - Forward and backward passes"
   ]
  },
  {
   "cell_type": "code",
   "execution_count": 59,
   "id": "7244fabe-2ac8-4c4e-8be3-7ea54d740cc5",
   "metadata": {},
   "outputs": [],
   "source": [
    "def forward_pass(w1, b1, w2, b2, x):\n",
    "    x0 = x\n",
    "    s1 = w1 @ x0 + b1\n",
    "    x1 = sigma(s1)\n",
    "    s2 =  w2 @ x1 + b2\n",
    "    x2 = sigma(s2)\n",
    "    return x0, s1, x1, s2, x2\n",
    "\n",
    "def backward_pass(w1, b1, w2, b2, t, x, s1, x1, s2, x2, dl_w1, dl_db1, dl_dw2, dl_db2):\n",
    "    pass\n",
    "\n",
    "\n"
   ]
  },
  {
   "cell_type": "markdown",
   "id": "eba8f9d5-fd0c-4e7a-9384-7789b82fbc6e",
   "metadata": {},
   "source": [
    "## Correction"
   ]
  },
  {
   "cell_type": "code",
   "execution_count": 123,
   "id": "095d41c3-dd0d-4989-9e91-268258562e84",
   "metadata": {},
   "outputs": [],
   "source": [
    "def forward_pass(w1, b1, w2, b2, x):\n",
    "    x0 = x\n",
    "    s1 = w1.mv(x0) + b1\n",
    "    x1 = sigma(s1)\n",
    "    s2 = w2.mv(x1) + b2\n",
    "    x2 = sigma(s2)\n",
    "    return x0, s1, x1, s2, x2"
   ]
  },
  {
   "cell_type": "code",
   "execution_count": 115,
   "id": "085a6a37-4b00-49c5-94a7-1554c7caf778",
   "metadata": {},
   "outputs": [
    {
     "data": {
      "text/plain": [
       "torch.Size([784])"
      ]
     },
     "execution_count": 115,
     "metadata": {},
     "output_type": "execute_result"
    }
   ],
   "source": [
    "x.size()"
   ]
  },
  {
   "cell_type": "code",
   "execution_count": 108,
   "id": "6a30225d-9016-4b0d-8d1a-2591dc3f009a",
   "metadata": {},
   "outputs": [
    {
     "data": {
      "text/plain": [
       "torch.Size([784])"
      ]
     },
     "execution_count": 108,
     "metadata": {},
     "output_type": "execute_result"
    }
   ],
   "source": [
    "x = train_input[0].view(-1)\n",
    "x.size()"
   ]
  },
  {
   "cell_type": "code",
   "execution_count": 109,
   "id": "b2ca399e-a306-454a-8dbb-f76937b69fb8",
   "metadata": {},
   "outputs": [],
   "source": [
    "w1 = torch.randn(1, 784)\n",
    "b1 = torch.randn(784, 1)\n",
    "b1\n",
    "w2 = torch.randn(1, 784)\n",
    "b2 = torch.randn(784, 1)"
   ]
  },
  {
   "cell_type": "markdown",
   "id": "9d53cb92-6156-48d6-b2d3-caf683296017",
   "metadata": {},
   "source": [
    "### Correction: it's not great to add this second dimension to the bias.. it makes .mv() return an error."
   ]
  },
  {
   "cell_type": "code",
   "execution_count": 141,
   "id": "9278cc6e-fbcc-450c-9fb1-bf4f83f5ec0f",
   "metadata": {},
   "outputs": [],
   "source": [
    "w1 = torch.randn(1, 784)\n",
    "b1 = torch.randn(784)\n",
    "w2 = torch.randn(10, 784)\n",
    "b2 = torch.randn(784, 10)"
   ]
  },
  {
   "cell_type": "code",
   "execution_count": 142,
   "id": "e03cdfcf-d2ee-4151-ab86-3fe9f29458f1",
   "metadata": {},
   "outputs": [],
   "source": [
    "x0, s1, x1, s2, x2 = forward_pass(w1, b1, w2, b2, x)"
   ]
  },
  {
   "cell_type": "code",
   "execution_count": 128,
   "id": "f13a8468-db4a-4841-94ee-5dc8729c9127",
   "metadata": {},
   "outputs": [
    {
     "data": {
      "text/plain": [
       "tensor(5)"
      ]
     },
     "execution_count": 128,
     "metadata": {},
     "output_type": "execute_result"
    }
   ],
   "source": [
    "t = train_target[0]\n",
    "t"
   ]
  },
  {
   "cell_type": "code",
   "execution_count": 143,
   "id": "c2aada2c-7968-4add-b49a-0208b9959ff0",
   "metadata": {},
   "outputs": [
    {
     "data": {
      "text/plain": [
       "torch.Size([784, 10])"
      ]
     },
     "execution_count": 143,
     "metadata": {},
     "output_type": "execute_result"
    }
   ],
   "source": [
    "x2.size()"
   ]
  },
  {
   "cell_type": "code",
   "execution_count": 132,
   "id": "d81e7390-9a3e-4a62-b0b8-cdc7ebb570be",
   "metadata": {},
   "outputs": [],
   "source": [
    "dl_w1 = 0\n",
    "dl_db1 = 0 \n",
    "dl_dw2 = 0 \n",
    "dl_db2 = 0\n",
    "\n",
    "def backward_pass(w1, b1, w2, b2, \n",
    "                  t, \n",
    "                  x, s1, x1, s2, x2, \n",
    "                  dl_w1, dl_db1, dl_dw2, dl_db2):\n",
    "    \n",
    "    loss = loss(t, x2)\n",
    "    dl_dw2 += dloss(t, x2) * dsigma(x2).t() * x1.t() \n",
    "    dl_db2 += dloss(t, x2) * dsigma(x2) \n",
    "    dl_dw1 += w1 * dloss(t, x2) * dsigma(x2)  * dsigma(x1) * x0 \n",
    "    dl_db1 += w1 * dloss(t, x2) * dsigma(x2)  * dsigma(x1)\n",
    "    \n",
    "    return dl_w1, dl_db1, dl_dw2, dl_db2\n"
   ]
  },
  {
   "cell_type": "markdown",
   "id": "5e561250-640c-41e9-b32f-80cdb2673c47",
   "metadata": {},
   "source": [
    "Fist improvement is to make a less nested function + be aware dsigma is applied on the state s, not on x ! (don't skip a node in the graph ! )"
   ]
  },
  {
   "cell_type": "code",
   "execution_count": 146,
   "id": "249801c9-7475-4fb5-9c41-23af4cb5040d",
   "metadata": {},
   "outputs": [],
   "source": [
    "def backward_pass(w1, b1, w2, b2, \n",
    "                  t, \n",
    "                  x, s1, x1, s2, x2, \n",
    "                  dl_w1, dl_db1, dl_dw2, dl_db2):\n",
    "    \n",
    "    dl_dx2 = dloss(t, x2)\n",
    "    dl_ds2 = dl_dx2 * dsigma(s2).t()\n",
    "\n",
    "    dl_dx1 = w2 * dl_ds2\n",
    "    dl_ds1 = dl_dx2 * dsigma(s1).t()\n",
    "    \n",
    "    dl_dw2 += dl_ds2 * x1.t() \n",
    "    dl_db2 += dl_ds2\n",
    "    \n",
    "    dl_dw1 += dl_ds1 * x0 \n",
    "    dl_db1 += dl_ds1\n",
    "    \n",
    "    return dl_w1, dl_db1, dl_dw2, dl_db2\n"
   ]
  },
  {
   "cell_type": "code",
   "execution_count": null,
   "id": "e2ae9fdc-7d17-493a-b381-27943ac63700",
   "metadata": {},
   "outputs": [],
   "source": []
  },
  {
   "cell_type": "markdown",
   "id": "ebaded1f-1af9-428d-b756-63f5fe6f2977",
   "metadata": {},
   "source": [
    "Then be aware of the order of computation... "
   ]
  },
  {
   "cell_type": "code",
   "execution_count": 147,
   "id": "877775ba-95eb-4825-b00c-0c8bbef9f7ad",
   "metadata": {},
   "outputs": [
    {
     "ename": "RuntimeError",
     "evalue": "The size of tensor a (10) must match the size of tensor b (784) at non-singleton dimension 1",
     "output_type": "error",
     "traceback": [
      "\u001b[0;31m---------------------------------------------------------------------------\u001b[0m",
      "\u001b[0;31mRuntimeError\u001b[0m                              Traceback (most recent call last)",
      "Cell \u001b[0;32mIn[147], line 1\u001b[0m\n\u001b[0;32m----> 1\u001b[0m dl_w1, dl_db1, dl_dw2, dl_db2 \u001b[38;5;241m=\u001b[39m \u001b[43mbackward_pass\u001b[49m\u001b[43m(\u001b[49m\u001b[43mw1\u001b[49m\u001b[43m,\u001b[49m\u001b[43m \u001b[49m\u001b[43mb1\u001b[49m\u001b[43m,\u001b[49m\u001b[43m \u001b[49m\u001b[43mw2\u001b[49m\u001b[43m,\u001b[49m\u001b[43m \u001b[49m\u001b[43mb2\u001b[49m\u001b[43m,\u001b[49m\u001b[43m \u001b[49m\u001b[43mt\u001b[49m\u001b[43m,\u001b[49m\u001b[43m \u001b[49m\u001b[43mx\u001b[49m\u001b[43m,\u001b[49m\u001b[43m \u001b[49m\u001b[43ms1\u001b[49m\u001b[43m,\u001b[49m\u001b[43m \u001b[49m\u001b[43mx1\u001b[49m\u001b[43m,\u001b[49m\u001b[43m \u001b[49m\u001b[43ms2\u001b[49m\u001b[43m,\u001b[49m\u001b[43m \u001b[49m\u001b[43mx2\u001b[49m\u001b[43m,\u001b[49m\u001b[43m \u001b[49m\u001b[43mdl_w1\u001b[49m\u001b[43m,\u001b[49m\u001b[43m \u001b[49m\u001b[43mdl_db1\u001b[49m\u001b[43m,\u001b[49m\u001b[43m \u001b[49m\u001b[43mdl_dw2\u001b[49m\u001b[43m,\u001b[49m\u001b[43m \u001b[49m\u001b[43mdl_db2\u001b[49m\u001b[43m)\u001b[49m\n",
      "Cell \u001b[0;32mIn[146], line 7\u001b[0m, in \u001b[0;36mbackward_pass\u001b[0;34m(w1, b1, w2, b2, t, x, s1, x1, s2, x2, dl_w1, dl_db1, dl_dw2, dl_db2)\u001b[0m\n\u001b[1;32m      1\u001b[0m \u001b[38;5;28;01mdef\u001b[39;00m \u001b[38;5;21mbackward_pass\u001b[39m(w1, b1, w2, b2, \n\u001b[1;32m      2\u001b[0m                   t, \n\u001b[1;32m      3\u001b[0m                   x, s1, x1, s2, x2, \n\u001b[1;32m      4\u001b[0m                   dl_w1, dl_db1, dl_dw2, dl_db2):\n\u001b[1;32m      6\u001b[0m     dl_dx2 \u001b[38;5;241m=\u001b[39m dloss(t, x2)\n\u001b[0;32m----> 7\u001b[0m     dl_ds2 \u001b[38;5;241m=\u001b[39m \u001b[43mdl_dx2\u001b[49m\u001b[43m \u001b[49m\u001b[38;5;241;43m*\u001b[39;49m\u001b[43m \u001b[49m\u001b[43mdsigma\u001b[49m\u001b[43m(\u001b[49m\u001b[43ms2\u001b[49m\u001b[43m)\u001b[49m\u001b[38;5;241;43m.\u001b[39;49m\u001b[43mt\u001b[49m\u001b[43m(\u001b[49m\u001b[43m)\u001b[49m\n\u001b[1;32m      9\u001b[0m     dl_dx1 \u001b[38;5;241m=\u001b[39m w2 \u001b[38;5;241m*\u001b[39m dl_ds2\n\u001b[1;32m     10\u001b[0m     dl_ds1 \u001b[38;5;241m=\u001b[39m dl_dx2 \u001b[38;5;241m*\u001b[39m dsigma(s1)\u001b[38;5;241m.\u001b[39mt()\n",
      "\u001b[0;31mRuntimeError\u001b[0m: The size of tensor a (10) must match the size of tensor b (784) at non-singleton dimension 1"
     ]
    }
   ],
   "source": [
    "dl_w1, dl_db1, dl_dw2, dl_db2 = backward_pass(w1, b1, w2, b2, t, x, s1, x1, s2, x2, dl_w1, dl_db1, dl_dw2, dl_db2)"
   ]
  },
  {
   "cell_type": "markdown",
   "id": "b4327f1e-7797-432e-871d-469c1373aacc",
   "metadata": {},
   "source": [
    "### Correction"
   ]
  },
  {
   "cell_type": "code",
   "execution_count": null,
   "id": "2cc6ab1b-6355-421f-9969-d19019648a1f",
   "metadata": {},
   "outputs": [],
   "source": [
    "def backward_pass(w1, b1, w2, b2,\n",
    "                  t,\n",
    "                  x, s1, x1, s2, x2,\n",
    "                  dl_dw1, dl_db1, dl_dw2, dl_db2):\n",
    "    x0 = x\n",
    "    dl_dx2 = dloss(x2, t)\n",
    "    dl_ds2 = dsigma(s2) * dl_dx2\n",
    "    dl_dx1 = w2.t().mv(dl_ds2)\n",
    "    dl_ds1 = dsigma(s1) * dl_dx1\n",
    "\n",
    "    dl_dw2.add_(dl_ds2.view(-1, 1).mm(x1.view(1, -1)))\n",
    "    dl_db2.add_(dl_ds2)\n",
    "    dl_dw1.add_(dl_ds1.view(-1, 1).mm(x0.view(1, -1)))\n",
    "    dl_db1.add_(dl_ds1)\n",
    "\n",
    "    return dl_dw1, dl_db1, dl_dw2, dl_db2"
   ]
  },
  {
   "cell_type": "markdown",
   "id": "86bedf53-68b2-466a-be4b-32d272a8a336",
   "metadata": {},
   "source": [
    "### 4 - Training the network"
   ]
  },
  {
   "cell_type": "markdown",
   "id": "f29c0010-b72b-4333-b562-a9383283f497",
   "metadata": {},
   "source": [
    "1. Load the data using the provided prologue.load˙data function, with one-hot label vectors\n",
    "and normalized inputs. Multiply the target label vectors by ζ = 0.9 (so that they are strictly in\n",
    "the value range of tanh)."
   ]
  },
  {
   "cell_type": "code",
   "execution_count": 150,
   "id": "8cb65eca-2c54-46a6-b80f-523ddde076bf",
   "metadata": {},
   "outputs": [
    {
     "name": "stdout",
     "output_type": "stream",
     "text": [
      "* Using MNIST\n",
      "** Reduce the data-set (use --full for the full thing)\n",
      "** Use 1000 train and 1000 test samples\n"
     ]
    }
   ],
   "source": [
    "train_input, train_target, test_input, test_target = prologue.load_data(\n",
    "     one_hot_labels=False, normalize=True, flatten=True\n",
    ")\n",
    "\n",
    "train_target = train_target * 0.9\n",
    "test_target = test_target * 0.9"
   ]
  },
  {
   "cell_type": "markdown",
   "id": "6981a38f-6797-4d50-84e4-a2a4e3ecd8dd",
   "metadata": {},
   "source": [
    "2. Create the four weight and bias tensors, and fill them with random values sampled according to\n",
    "𝒩 (0, ϵ) with ϵ = 1e − 6."
   ]
  },
  {
   "cell_type": "code",
   "execution_count": 172,
   "id": "0b1796df-5377-4c68-a665-56694e58a0db",
   "metadata": {},
   "outputs": [],
   "source": [
    "import math\n",
    "\n",
    "w1 = torch.empty(50, 784).normal_(0, math.exp(-6))\n",
    "b1 = torch.empty(50).normal_(0, math.exp(-6))\n",
    "w2 = torch.empty(10, 50).normal_(0, math.exp(-6))\n",
    "b2 = torch.empty(10).normal_(0, math.exp(-6))"
   ]
  },
  {
   "cell_type": "markdown",
   "id": "28b83ae6-1c56-4136-97c9-5f6133833116",
   "metadata": {},
   "source": [
    "3. Create the four tensors to sum up the gradients on individual samples, with respect to the\n",
    "weights and biases."
   ]
  },
  {
   "cell_type": "code",
   "execution_count": 173,
   "id": "847375ce-4da5-4a5d-bb54-9327fe9d8114",
   "metadata": {},
   "outputs": [],
   "source": [
    "def backward_pass(w1, b1, w2, b2,\n",
    "                  t,\n",
    "                  x, s1, x1, s2, x2,\n",
    "                  dl_dw1, dl_db1, dl_dw2, dl_db2):\n",
    "    x0 = x\n",
    "    dl_dx2 = dloss(x2, t)\n",
    "    dl_ds2 = dsigma(s2) * dl_dx2\n",
    "    dl_dx1 = w2.t().mv(dl_ds2)\n",
    "    dl_ds1 = dsigma(s1) * dl_dx1\n",
    "\n",
    "    dl_dw2.add_(dl_ds2.view(-1, 1).mm(x1.view(1, -1)))\n",
    "    dl_db2.add_(dl_ds2)\n",
    "    dl_dw1.add_(dl_ds1.view(-1, 1).mm(x0.view(1, -1)))\n",
    "    dl_db1.add_(dl_ds1)\n",
    "\n",
    "    return dl_dw1, dl_db1, dl_dw2, dl_db2"
   ]
  },
  {
   "cell_type": "markdown",
   "id": "8b349e66-0c25-4f49-bebe-64c68a35f0d9",
   "metadata": {},
   "source": [
    "4. Perform 1, 000 gradient steps with a step size η equal to 0.1 divided by the number of training\n",
    "samples.\n",
    "Each of these steps requires to reset to zero the tensors for summing up the gradients, and\n",
    "doing a forward and a backward pass for each training example.\n",
    "Compute and print the training loss, training error and test error after every step using the class\n",
    "of maximum response as the predicted one."
   ]
  },
  {
   "cell_type": "code",
   "execution_count": 174,
   "id": "d31230b2-c94b-42a4-89a4-aa1fa340bb88",
   "metadata": {},
   "outputs": [
    {
     "data": {
      "text/plain": [
       "tensor([0])"
      ]
     },
     "execution_count": 174,
     "metadata": {},
     "output_type": "execute_result"
    }
   ],
   "source": [
    "torch.full((1,), 0)"
   ]
  },
  {
   "cell_type": "code",
   "execution_count": 179,
   "id": "fab39ade-1828-476c-8a9a-25655fe8a9c1",
   "metadata": {},
   "outputs": [
    {
     "ename": "RuntimeError",
     "evalue": "output with shape [1] doesn't match the broadcast shape [50, 784]",
     "output_type": "error",
     "traceback": [
      "\u001b[0;31m---------------------------------------------------------------------------\u001b[0m",
      "\u001b[0;31mRuntimeError\u001b[0m                              Traceback (most recent call last)",
      "Cell \u001b[0;32mIn[179], line 22\u001b[0m\n\u001b[1;32m     18\u001b[0m t \u001b[38;5;241m=\u001b[39m train_target[i]\n\u001b[1;32m     20\u001b[0m x0, s1, x1, s2, x2 \u001b[38;5;241m=\u001b[39m forward_pass(w1, b1, w2, b2, x)\n\u001b[0;32m---> 22\u001b[0m dl_w1, dl_db1, dl_dw2, dl_db2 \u001b[38;5;241m=\u001b[39m \u001b[43mbackward_pass\u001b[49m\u001b[43m(\u001b[49m\u001b[43mw1\u001b[49m\u001b[43m,\u001b[49m\u001b[43m \u001b[49m\u001b[43mb1\u001b[49m\u001b[43m,\u001b[49m\u001b[43m \u001b[49m\u001b[43mw2\u001b[49m\u001b[43m,\u001b[49m\u001b[43m \u001b[49m\u001b[43mb2\u001b[49m\u001b[43m,\u001b[49m\u001b[43m \u001b[49m\u001b[43mt\u001b[49m\u001b[43m,\u001b[49m\u001b[43m \u001b[49m\u001b[43mx\u001b[49m\u001b[43m,\u001b[49m\u001b[43m \u001b[49m\u001b[43ms1\u001b[49m\u001b[43m,\u001b[49m\u001b[43m \u001b[49m\u001b[43mx1\u001b[49m\u001b[43m,\u001b[49m\u001b[43m \u001b[49m\u001b[43ms2\u001b[49m\u001b[43m,\u001b[49m\u001b[43m \u001b[49m\u001b[43mx2\u001b[49m\u001b[43m,\u001b[49m\u001b[43m \u001b[49m\u001b[43mdl_w1\u001b[49m\u001b[43m,\u001b[49m\u001b[43m \u001b[49m\u001b[43mdl_db1\u001b[49m\u001b[43m,\u001b[49m\u001b[43m \u001b[49m\u001b[43mdl_dw2\u001b[49m\u001b[43m,\u001b[49m\u001b[43m \u001b[49m\u001b[43mdl_db2\u001b[49m\u001b[43m)\u001b[49m\n\u001b[1;32m     23\u001b[0m w1\u001b[38;5;241m.\u001b[39msubstract(eta \u001b[38;5;241m*\u001b[39m dl_dw1)\n\u001b[1;32m     24\u001b[0m b1\u001b[38;5;241m.\u001b[39msubstract(eta \u001b[38;5;241m*\u001b[39m dl_db1)\n",
      "Cell \u001b[0;32mIn[176], line 52\u001b[0m, in \u001b[0;36mbackward_pass\u001b[0;34m(w1, b1, w2, b2, t, x, s1, x1, s2, x2, dl_dw1, dl_db1, dl_dw2, dl_db2)\u001b[0m\n\u001b[1;32m     50\u001b[0m dl_dw2\u001b[38;5;241m.\u001b[39madd_(dl_ds2\u001b[38;5;241m.\u001b[39mview(\u001b[38;5;241m-\u001b[39m\u001b[38;5;241m1\u001b[39m, \u001b[38;5;241m1\u001b[39m)\u001b[38;5;241m.\u001b[39mmm(x1\u001b[38;5;241m.\u001b[39mview(\u001b[38;5;241m1\u001b[39m, \u001b[38;5;241m-\u001b[39m\u001b[38;5;241m1\u001b[39m)))\n\u001b[1;32m     51\u001b[0m dl_db2\u001b[38;5;241m.\u001b[39madd_(dl_ds2)\n\u001b[0;32m---> 52\u001b[0m \u001b[43mdl_dw1\u001b[49m\u001b[38;5;241;43m.\u001b[39;49m\u001b[43madd_\u001b[49m\u001b[43m(\u001b[49m\u001b[43mdl_ds1\u001b[49m\u001b[38;5;241;43m.\u001b[39;49m\u001b[43mview\u001b[49m\u001b[43m(\u001b[49m\u001b[38;5;241;43m-\u001b[39;49m\u001b[38;5;241;43m1\u001b[39;49m\u001b[43m,\u001b[49m\u001b[43m \u001b[49m\u001b[38;5;241;43m1\u001b[39;49m\u001b[43m)\u001b[49m\u001b[38;5;241;43m.\u001b[39;49m\u001b[43mmm\u001b[49m\u001b[43m(\u001b[49m\u001b[43mx0\u001b[49m\u001b[38;5;241;43m.\u001b[39;49m\u001b[43mview\u001b[49m\u001b[43m(\u001b[49m\u001b[38;5;241;43m1\u001b[39;49m\u001b[43m,\u001b[49m\u001b[43m \u001b[49m\u001b[38;5;241;43m-\u001b[39;49m\u001b[38;5;241;43m1\u001b[39;49m\u001b[43m)\u001b[49m\u001b[43m)\u001b[49m\u001b[43m)\u001b[49m\n\u001b[1;32m     53\u001b[0m dl_db1\u001b[38;5;241m.\u001b[39madd_(dl_ds1)\n",
      "\u001b[0;31mRuntimeError\u001b[0m: output with shape [1] doesn't match the broadcast shape [50, 784]"
     ]
    }
   ],
   "source": [
    "eta = 0.1\n",
    "\n",
    "i = 0 \n",
    "\n",
    "dl_dw1 = torch.empty(w1.size())\n",
    "dl_db1 = torch.empty(b1.size())\n",
    "dl_dw2 = torch.empty(w2.size())\n",
    "dl_db2 = torch.empty(b2.size())\n",
    "\n",
    "for i, row in enumerate(train_input):\n",
    "    dl_dw1.zero_()\n",
    "    dl_db1.zero_()\n",
    "    dl_dw2.zero_()\n",
    "    dl_db2.zero_()\n",
    "\n",
    "\n",
    "    x = row\n",
    "    t = train_target[i]\n",
    "    \n",
    "    x0, s1, x1, s2, x2 = forward_pass(w1, b1, w2, b2, x)\n",
    "    \n",
    "    dl_w1, dl_db1, dl_dw2, dl_db2 = backward_pass(w1, b1, w2, b2, t, x, s1, x1, s2, x2, dl_w1, dl_db1, dl_dw2, dl_db2)\n",
    "    w1.substract(eta * dl_dw1)\n",
    "    b1.substract(eta * dl_db1)\n",
    "    w2.substract(eta * dl_dw2)\n",
    "    b2.substract(eta * dl_db2)\n",
    "    \n",
    "\n",
    "    i += 1\n",
    "\n",
    "    "
   ]
  },
  {
   "cell_type": "code",
   "execution_count": 171,
   "id": "ba6adb61-87f3-4b1f-9906-586f54431e7d",
   "metadata": {},
   "outputs": [
    {
     "ename": "NameError",
     "evalue": "name 'dl_ds1' is not defined",
     "output_type": "error",
     "traceback": [
      "\u001b[0;31m---------------------------------------------------------------------------\u001b[0m",
      "\u001b[0;31mNameError\u001b[0m                                 Traceback (most recent call last)",
      "Cell \u001b[0;32mIn[171], line 1\u001b[0m\n\u001b[0;32m----> 1\u001b[0m \u001b[43mdl_ds1\u001b[49m\u001b[38;5;241m.\u001b[39msize()\n",
      "\u001b[0;31mNameError\u001b[0m: name 'dl_ds1' is not defined"
     ]
    }
   ],
   "source": [
    "dl_ds1.size()"
   ]
  },
  {
   "cell_type": "code",
   "execution_count": null,
   "id": "3d2c54db-0328-4a77-a10f-9f102e7b0e40",
   "metadata": {},
   "outputs": [],
   "source": []
  }
 ],
 "metadata": {
  "kernelspec": {
   "display_name": "Python 3 (ipykernel)",
   "language": "python",
   "name": "python3"
  },
  "language_info": {
   "codemirror_mode": {
    "name": "ipython",
    "version": 3
   },
   "file_extension": ".py",
   "mimetype": "text/x-python",
   "name": "python",
   "nbconvert_exporter": "python",
   "pygments_lexer": "ipython3",
   "version": "3.11.2"
  }
 },
 "nbformat": 4,
 "nbformat_minor": 5
}
